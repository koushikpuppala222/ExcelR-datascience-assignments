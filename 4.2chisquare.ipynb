{
 "cells": [
  {
   "cell_type": "markdown",
   "id": "3a4b0d61-a39b-450a-a2ee-508c43b93dbc",
   "metadata": {},
   "source": [
    "# stating the Hypothesis\n",
    "* null hypothesis = satisfaction proportion across Smart Thermostat and Smart Light are same\n",
    "* alternate hypothesis = satisfaction proportion across Smart Thermostat and Smart Light are not same"
   ]
  },
  {
   "cell_type": "markdown",
   "id": "158ce312-32a2-43f1-9ee8-3d4f0c07e68c",
   "metadata": {},
   "source": [
    "# computing the Chi-Square Statistic:\n",
    "* using the chi2_contingency() "
   ]
  },
  {
   "cell_type": "code",
   "execution_count": 6,
   "id": "3f71c2fc-68a8-4d3d-8092-204419a25fa1",
   "metadata": {
    "tags": []
   },
   "outputs": [
    {
     "data": {
      "text/plain": [
       "array([[ 50,  70],\n",
       "       [ 80, 100],\n",
       "       [ 60,  90],\n",
       "       [ 30,  50],\n",
       "       [ 20,  50]])"
      ]
     },
     "execution_count": 6,
     "metadata": {},
     "output_type": "execute_result"
    }
   ],
   "source": [
    "# as chi2_contingency() accepts data in the below format so impoting numpy library \n",
    "import numpy as np\n",
    "data=np.array([[50,70],[80,100],[60,90],[30,50],[20,50]])\n",
    "data"
   ]
  },
  {
   "cell_type": "code",
   "execution_count": 7,
   "id": "149360c3-9c5c-479e-a0db-8be4676a628e",
   "metadata": {
    "tags": []
   },
   "outputs": [
    {
     "data": {
      "text/plain": [
       "Chi2ContingencyResult(statistic=5.638227513227513, pvalue=0.22784371130697179, dof=4, expected_freq=array([[ 48.,  72.],\n",
       "       [ 72., 108.],\n",
       "       [ 60.,  90.],\n",
       "       [ 32.,  48.],\n",
       "       [ 28.,  42.]]))"
      ]
     },
     "execution_count": 7,
     "metadata": {},
     "output_type": "execute_result"
    }
   ],
   "source": [
    "# importing chi2_contingency() function from scipy.stats\n",
    "from scipy.stats.contingency import chi2_contingency\n",
    "chi2_contingency(data)"
   ]
  },
  {
   "cell_type": "code",
   "execution_count": 9,
   "id": "bf21853f-4e4a-402a-8b12-6025e8273560",
   "metadata": {
    "tags": []
   },
   "outputs": [],
   "source": [
    "# chi2_statistic\n",
    "chi2_statistic = chi2_contingency(data)[0]"
   ]
  },
  {
   "cell_type": "code",
   "execution_count": 10,
   "id": "85f8d3af-8fea-433b-bda6-76cbf6dd80bf",
   "metadata": {
    "tags": []
   },
   "outputs": [],
   "source": [
    "# from chi2 distribution table we find critical value based on significance level(0.05) & degrees of freedom(5-1 = 4)\n",
    "critical_value = 9.48773"
   ]
  },
  {
   "cell_type": "code",
   "execution_count": 11,
   "id": "4b62cf49-a5fd-4601-9cde-ee3710d4dfa9",
   "metadata": {
    "tags": []
   },
   "outputs": [
    {
     "name": "stdout",
     "output_type": "stream",
     "text": [
      "satisfaction proportion across Smart Thermostat and Smart Light are same\n"
     ]
    }
   ],
   "source": [
    "# Making a Decision:\n",
    "if chi2_statistic > critical_value :\n",
    "    print('satisfaction proportion across Smart Thermostat and Smart Light are not same')\n",
    "else:\n",
    "    print('satisfaction proportion across Smart Thermostat and Smart Light are same')"
   ]
  },
  {
   "cell_type": "markdown",
   "id": "d8655de6-f925-4bca-8965-be96974bd140",
   "metadata": {},
   "source": [
    "# conclusion\n",
    "* with 95% confidence we can say that both products gained similar customer satisfaction\n",
    "* Both products Smart Thermostat and Smart Light of Mizzare Corporation have almost similar ratings\n",
    "* that is there is no significance difference in customer satisfaction in these two products"
   ]
  },
  {
   "cell_type": "code",
   "execution_count": null,
   "id": "d8883638-b8ef-4e67-9bce-25191dd6a67f",
   "metadata": {},
   "outputs": [],
   "source": []
  }
 ],
 "metadata": {
  "kernelspec": {
   "display_name": "Python 3 (ipykernel)",
   "language": "python",
   "name": "python3"
  },
  "language_info": {
   "codemirror_mode": {
    "name": "ipython",
    "version": 3
   },
   "file_extension": ".py",
   "mimetype": "text/x-python",
   "name": "python",
   "nbconvert_exporter": "python",
   "pygments_lexer": "ipython3",
   "version": "3.11.5"
  }
 },
 "nbformat": 4,
 "nbformat_minor": 5
}
